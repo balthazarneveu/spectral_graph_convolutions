{
 "cells": [
  {
   "cell_type": "code",
   "execution_count": null,
   "metadata": {},
   "outputs": [],
   "source": [
    "from scipy.io import loadmat\n",
    "from nilearn import plotting, datasets\n",
    "from ipywidgets import interact\n",
    "from config import DEFAULT_ABIDE_LOCATION"
   ]
  },
  {
   "cell_type": "code",
   "execution_count": null,
   "metadata": {},
   "outputs": [],
   "source": [
    "root = DEFAULT_ABIDE_LOCATION\n",
    "assert root.exists(), f\"{root} does not exist\"\n",
    "indexes = sorted(list(root.glob(\"5*\")))\n",
    "\n",
    "print(f\"{len(indexes)} subjects found in {root}\")\n"
   ]
  },
  {
   "cell_type": "code",
   "execution_count": null,
   "metadata": {},
   "outputs": [],
   "source": [
    "# VISUALZIE DATA INTERACTIVELY\n",
    "def plot_connecivity(index=0):\n",
    "    subject_path = indexes[index]\n",
    "    subject_index = subject_path.name[:5]\n",
    "    con = loadmat(str(subject_path/f\"{subject_index}_ho_correlation.mat\"))[\"connectivity\"]\n",
    "    # print(min(con.flatten()), max(con.flatten()))\n",
    "    plotting.plot_matrix(\n",
    "        con,\n",
    "        # labels=labels,\n",
    "        figure=(9, 7),\n",
    "        vmax=1,\n",
    "        vmin=-1,\n",
    "        title=f\"Connectivity matrix of {subject_index}\",\n",
    "    )\n",
    "interact(plot_connecivity, index=(0, len(indexes)-1, 1))"
   ]
  },
  {
   "cell_type": "markdown",
   "metadata": {},
   "source": [
    "#### Visualizing the HO Atlas with `nilearn`"
   ]
  },
  {
   "cell_type": "code",
   "execution_count": null,
   "metadata": {},
   "outputs": [],
   "source": [
    "dataset_ho = datasets.fetch_atlas_harvard_oxford(\"cort-maxprob-thr25-2mm\")\n",
    "atlas_ho_filename = dataset_ho.filename\n",
    "labels = dataset_ho[\"labels\"]\n",
    "labels"
   ]
  },
  {
   "cell_type": "code",
   "execution_count": null,
   "metadata": {},
   "outputs": [],
   "source": [
    "plotting.plot_roi(\n",
    "    atlas_ho_filename,\n",
    "    view_type=\"contours\",\n",
    "    title=\"Harvard Oxford atlas in contours\",\n",
    ")\n",
    "plotting.show()\n",
    "\n",
    "\n",
    "plotting.plot_roi(atlas_ho_filename, title=\"Harvard Oxford atlas\")"
   ]
  }
 ],
 "metadata": {
  "kernelspec": {
   "display_name": "Python 3",
   "language": "python",
   "name": "python3"
  },
  "language_info": {
   "codemirror_mode": {
    "name": "ipython",
    "version": 3
   },
   "file_extension": ".py",
   "mimetype": "text/x-python",
   "name": "python",
   "nbconvert_exporter": "python",
   "pygments_lexer": "ipython3",
   "version": "3.10.12"
  }
 },
 "nbformat": 4,
 "nbformat_minor": 2
}
